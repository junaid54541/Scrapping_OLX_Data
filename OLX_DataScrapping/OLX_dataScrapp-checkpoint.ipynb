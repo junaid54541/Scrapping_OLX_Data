{
 "cells": [],
 "metadata": {},
 "nbformat": 4,
 "nbformat_minor": 2
}



import requests
from bs4 import BeautifulSoup as bs
import urllib.parse

r = requests.get('https://www.olx.com.pk/karachi/shops-offices-commercial-space-sale/')
soup = bs(r.text, 'html.parser')



records = []
for i in range(some):
    img_url = imp[i].contents[1].span['style'].split()[1].split('(')[1].split(')')[0]
    title = str(ano[i].text.strip())
    location = val[i].text[71:].replace('\t','').split('-\n')[0]
    time = val[i].text[71:].replace('\t','').split('-\n')[1]
    price = aii[i].text.strip()
    records.append((title, location, time, price, img_url))

    url1 = "https://www.olx.com.pk/karachi/shops-offices-commercial-space-sale/"
for j in range(2,34):
    url2 = "?page="+str(j)
    r = requests.get(urllib.parse.urljoin(url1, url2))
    soup = bs(r.text, 'html.parser')
    results = soup.find_all('table', attrs={'class':'fixed offers breakword'}) #fetch by table
    ano = results[0].find_all('h3') #get title
    val = results[0].find_all('small') #both time and Location
    val[0].text[71:].replace('\t','').split('-\n')[0] #get location
    val[0].text[71:].replace('\t','').split('-\n')[1] #get time (not in time format due to words like, yesterday)
    aii = results[0].find_all('div', attrs={'class':'lpv-item-info--price'}) #get price
    imp = results[0].find_all('a', attrs={'class':'lpv-item-link'}) #get img_url
    some = len(imp)
    for i in range(some):
        img_url = imp[i].contents[1].span['style'].split()[1].split('(')[1].split(')')[0]
        title = str(ano[i].text.strip())
        location = val[i].text[71:].replace('\t','').split('-\n')[0]
        time = val[i].text[71:].replace('\t','').split('-\n')[1]
        price = aii[i].text.strip()
        records.append((title, location, time, price, img_url))



import pandas as pd
df = pd.DataFrame(records, columns=['title', 'location', 'time', 'price', 'img_url'])
df.to_csv('OLX_scapp.csv', index=False, encoding='utf-8')



df = pd.DataFrame(records, columns=['title', 'location', 'time', 'price', 'img_url'])
len(df)
