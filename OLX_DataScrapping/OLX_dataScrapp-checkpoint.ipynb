{
 "cells": [
  {
   "cell_type": "code",
   "execution_count": 10,
   "metadata": {},
   "outputs": [],
   "source": [
    "import requests\n",
    "from bs4 import BeautifulSoup as bs\n",
    "import urllib.parse\n",
    "import pandas as pd"
   ]
  },
  {
   "cell_type": "code",
   "execution_count": 11,
   "metadata": {},
   "outputs": [],
   "source": [
    "r = requests.get('https://www.olx.com.pk/karachi/shops-offices-commercial-space-sale/')\n",
    "soup = bs(r.text, 'html.parser')"
   ]
  },
  {
   "cell_type": "code",
   "execution_count": 13,
   "metadata": {},
   "outputs": [],
   "source": [
    "#First page Scrapp\n",
    "\n",
    "results = soup.find_all('table', attrs={'class':'fixed offers breakword'}) #parse by table\n",
    "ano = results[0].find_all('h3') #get title\n",
    "val = results[0].find_all('small') #both time and Location\n",
    "val[0].text[71:].replace('\\t','').split('-\\n')[0] #get location\n",
    "val[0].text[71:].replace('\\t','').split('-\\n')[1] #get time (not in time format due to words like, yesterday)\n",
    "aii = results[0].find_all('div', attrs={'class':'lpv-item-info--price'}) #get price\n",
    "imp = results[0].find_all('a', attrs={'class':'lpv-item-link'}) #get img_url\n",
    "some=len(imp)\n",
    "\n",
    "\n",
    "\n",
    "records = []\n",
    "for i in range(some):\n",
    "    img_url = imp[i].contents[1].span['style'].split()[1].split('(')[1].split(')')[0]\n",
    "    title = str(ano[i].text.strip())\n",
    "    location = val[i].text[71:].replace('\\t','').split('-\\n')[0]\n",
    "    time = val[i].text[71:].replace('\\t','').split('-\\n')[1]\n",
    "    price = aii[i].text.strip()\n",
    "    records.append((title, location, time, price, img_url))"
   ]
  },
  {
   "cell_type": "code",
   "execution_count": 14,
   "metadata": {},
   "outputs": [],
   "source": [
    "#Now all pages excluding first\n",
    "\n",
    "url1 = \"https://www.olx.com.pk/karachi/shops-offices-commercial-space-sale/\"\n",
    "for j in range(2,34):\n",
    "    url2 = \"?page=\"+str(j)\n",
    "    r = requests.get(urllib.parse.urljoin(url1, url2))\n",
    "    soup = bs(r.text, 'html.parser')\n",
    "    results = soup.find_all('table', attrs={'class':'fixed offers breakword'}) #fetch by table\n",
    "    ano = results[0].find_all('h3') #get title\n",
    "    val = results[0].find_all('small') #both time and Location\n",
    "    val[0].text[71:].replace('\\t','').split('-\\n')[0] #get location\n",
    "    val[0].text[71:].replace('\\t','').split('-\\n')[1] #get time (not in time format due to words like, yesterday)\n",
    "    aii = results[0].find_all('div', attrs={'class':'lpv-item-info--price'}) #get price\n",
    "    imp = results[0].find_all('a', attrs={'class':'lpv-item-link'}) #get img_url\n",
    "    some = len(imp)\n",
    "    for i in range(some):\n",
    "        img_url = imp[i].contents[1].span['style'].split()[1].split('(')[1].split(')')[0]\n",
    "        title = str(ano[i].text.strip())\n",
    "        location = val[i].text[71:].replace('\\t','').split('-\\n')[0]\n",
    "        time = val[i].text[71:].replace('\\t','').split('-\\n')[1]\n",
    "        price = aii[i].text.strip()\n",
    "        records.append((title, location, time, price, img_url))\n",
    "    "
   ]
  },
  {
   "cell_type": "code",
   "execution_count": 19,
   "metadata": {},
   "outputs": [],
   "source": [
    "df = pd.DataFrame(records, columns=['title', 'location', 'time', 'price', 'img_url'])\n",
    "df.to_csv('OLX_scrapp.csv', index=False, encoding='utf-8')\n",
    "\n",
    "\n",
    "\n",
    "f = pd.read_csv('OLX_scrapp.csv', encoding='utf-8')"
   ]
  },
  {
   "cell_type": "code",
   "execution_count": null,
   "metadata": {},
   "outputs": [],
   "source": []
  },
  {
   "cell_type": "code",
   "execution_count": null,
   "metadata": {},
   "outputs": [],
   "source": []
  }
 ],
 "metadata": {
  "kernelspec": {
   "display_name": "Python 3",
   "language": "python",
   "name": "python3"
  },
  "language_info": {
   "codemirror_mode": {
    "name": "ipython",
    "version": 3
   },
   "file_extension": ".py",
   "mimetype": "text/x-python",
   "name": "python",
   "nbconvert_exporter": "python",
   "pygments_lexer": "ipython3",
   "version": "3.6.5"
  }
 },
 "nbformat": 4,
 "nbformat_minor": 2
}
